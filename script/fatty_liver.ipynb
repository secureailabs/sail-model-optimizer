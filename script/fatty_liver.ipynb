{
 "cells": [
  {
   "cell_type": "code",
   "execution_count": null,
   "metadata": {},
   "outputs": [],
   "source": [
    "\n",
    "from pandas import DataFrame\n",
    "from sklearn.decomposition import PCA\n",
    "from sklearn.metrics import auc, roc_curve\n",
    "from sklearn.model_selection import train_test_split\n",
    "\n",
    "from sail_model_optimizer.model.XGBoost import (RunDictBuilderXGBoost,\n",
    "                                                RunEvaluatorXGBoost)\n",
    "from sail_model_optimizer.optimizer.optimizer_deep import OptimizerDeep\n",
    "\n",
    "df_output = pd.read_csv(\"fatty_liver_output.csv\")\n",
    "df_input = pd.read_csv(\"fatty_liver_input.csv\")\n",
    "\n",
    "df_input_train, df_input_test, df_output_train, df_output_test = train_test_split(\n",
    "    df_input,\n",
    "    df_output,\n",
    "    test_size=0.1,\n",
    "    random_state=43,\n",
    ")\n",
    "\n",
    "run_evaluator = RunEvaluatorXGBoost()\n",
    "run_dict_builder = RunDictBuilderXGBoost()\n",
    "\n",
    "optimizer = OptimizerDeep(\n",
    "    run_evaluator,\n",
    "    run_dict_builder,\n",
    "    fold_count=4,\n",
    "    fold_fracton=0.1,\n",
    ")\n",
    "\n",
    "optimizer.wipe()\n",
    "dict_run = optimizer.optimize_model(df_input, df_output)\n",
    "print(\"training score\")\n",
    "print(dict_run[\"score\"])\n",
    "print(dict_run[\"list_feature_selected\"])\n",
    "dict_run = run_evaluator.evaluate_run(df_input_train, df_output_train, df_input_test, df_output_test, dict_run)\n",
    "print(\"test score\")\n",
    "print(dict_run[\"score\"])\n",
    "print(dict_run[\"dict_params_current\"])\n"
   ]
  },
  {
   "cell_type": "code",
   "execution_count": null,
   "metadata": {},
   "outputs": [],
   "source": []
  }
 ],
 "metadata": {
  "language_info": {
   "name": "python"
  },
  "orig_nbformat": 4
 },
 "nbformat": 4,
 "nbformat_minor": 2
}
